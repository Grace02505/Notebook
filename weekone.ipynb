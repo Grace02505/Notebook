{
 "cells": [
  {
   "cell_type": "markdown",
   "metadata": {},
   "source": [
    "Find the nearest value from a given value in an array"
   ]
  },
  {
   "cell_type": "code",
   "execution_count": 1,
   "metadata": {},
   "outputs": [
    {
     "name": "stdout",
     "output_type": "stream",
     "text": [
      "8\n"
     ]
    }
   ],
   "source": [
    "import numpy as np\n",
    "\n",
    "def find_nearest_value(arr, value):\n",
    "    idx = np.abs(arr - value).argmin()\n",
    "    nearest_value = arr[idx]\n",
    "    return nearest_value\n",
    "\n",
    "# eg\n",
    "arr = np.array([2, 5, 8, 11, 13])\n",
    "value = 9\n",
    "\n",
    "nearest = find_nearest_value(arr, value)\n",
    "print(nearest)\n"
   ]
  },
  {
   "cell_type": "markdown",
   "metadata": {},
   "source": [
    "Considering two arrays with shape (1,3) and (3,1), how to compute their sum using an iterator?"
   ]
  },
  {
   "cell_type": "code",
   "execution_count": 2,
   "metadata": {},
   "outputs": [
    {
     "name": "stdout",
     "output_type": "stream",
     "text": [
      "Sum: 63\n"
     ]
    }
   ],
   "source": [
    "import numpy as np\n",
    "\n",
    "array1 = np.array([[1, 2, 3]])\n",
    "array2 = np.array([[4], [5], [6]])\n",
    "\n",
    "iterator = np.nditer([array1, array2])\n",
    "\n",
    "sum_result = 0\n",
    "\n",
    "for x, y in iterator:\n",
    "    sum_result += x + y\n",
    "\n",
    "print(\"Sum:\", sum_result)\n"
   ]
  },
  {
   "cell_type": "markdown",
   "metadata": {},
   "source": [
    " Create an array class that has a name attribute "
   ]
  },
  {
   "cell_type": "code",
   "execution_count": 3,
   "metadata": {},
   "outputs": [
    {
     "name": "stdout",
     "output_type": "stream",
     "text": [
      "[1 2 3]\n"
     ]
    }
   ],
   "source": [
    "import numpy as np\n",
    "\n",
    "class NamedArray(np.ndarray):\n",
    "    def __new__(cls, input_array, name=None):\n",
    "        obj = np.asarray(input_array).view(cls)\n",
    "        obj.name = name\n",
    "        return obj\n",
    "\n",
    "    def __array_finalize__(self, obj):\n",
    "        if obj is None:\n",
    "            return\n",
    "        self.name = getattr(obj, 'name', None)\n",
    "\n",
    "arr = NamedArray([1, 2, 3], name=\"My Array\")\n",
    "print(arr) \n"
   ]
  },
  {
   "cell_type": "markdown",
   "metadata": {},
   "source": [
    "Consider a given vector, how to add 1 to each element indexed by a second vector (be careful with repeated indices"
   ]
  },
  {
   "cell_type": "code",
   "execution_count": 4,
   "metadata": {},
   "outputs": [
    {
     "name": "stdout",
     "output_type": "stream",
     "text": [
      "[11 21 30 41 51]\n"
     ]
    }
   ],
   "source": [
    "given_vector = np.array([10, 20, 30, 40, 50])\n",
    "\n",
    "indices_vector = np.array([0, 1, 3, 1, 4])\n",
    "\n",
    "given_vector[indices_vector] += 1\n",
    "\n",
    "print(given_vector)"
   ]
  },
  {
   "cell_type": "markdown",
   "metadata": {},
   "source": [
    "How to accumulate elements of a vector (X) to an array (F) based on an index list (I)"
   ]
  },
  {
   "cell_type": "code",
   "execution_count": 5,
   "metadata": {},
   "outputs": [
    {
     "name": "stdout",
     "output_type": "stream",
     "text": [
      "[4. 7. 4.]\n"
     ]
    }
   ],
   "source": [
    "X = np.array([1, 2, 3, 4, 5])  \n",
    "I = np.array([0, 1, 0, 2, 1])  \n",
    "F = np.zeros(3)  \n",
    "\n",
    "np.add.at(F, I, X)\n",
    "\n",
    "print(F)"
   ]
  },
  {
   "cell_type": "markdown",
   "metadata": {},
   "source": [
    "Considering a (w,h,3) image of (dtype=ubyte), compute the number of unique colors"
   ]
  },
  {
   "cell_type": "code",
   "execution_count": null,
   "metadata": {},
   "outputs": [],
   "source": []
  },
  {
   "cell_type": "markdown",
   "metadata": {},
   "source": [
    "Considering a four dimensions array, how to get sum over the last two axis at once"
   ]
  },
  {
   "cell_type": "code",
   "execution_count": 6,
   "metadata": {},
   "outputs": [
    {
     "name": "stdout",
     "output_type": "stream",
     "text": [
      "[[ 72  94  97]\n",
      " [101  80 114]]\n"
     ]
    }
   ],
   "source": [
    "arr = np.random.randint(0, 10, size=(2, 3, 4, 5))\n",
    "sum_last_two_axes = np.sum(arr, axis=(-2, -1))\n",
    "\n",
    "print(sum_last_two_axes)"
   ]
  },
  {
   "cell_type": "markdown",
   "metadata": {},
   "source": [
    "Considering a one-dimensional vector D, how to compute means of subsets of D using a vector S of same size describing subset indices?"
   ]
  },
  {
   "cell_type": "code",
   "execution_count": 7,
   "metadata": {},
   "outputs": [
    {
     "name": "stdout",
     "output_type": "stream",
     "text": [
      "[5.0, 6.0]\n"
     ]
    }
   ],
   "source": [
    "D = np.array([1, 2, 3, 4, 5, 6, 7, 8, 9, 10])  \n",
    "S = np.array([0, 1, 0, 1, 0, 1, 0, 1, 0, 1])    \n",
    "\n",
    "subset_means = []\n",
    "unique_subsets = np.unique(S)  \n",
    "\n",
    "for subset_index in unique_subsets:\n",
    "    subset = D[S == subset_index]  \n",
    "    subset_mean = np.mean(subset)  \n",
    "    subset_means.append(subset_mean)\n",
    "\n",
    "print(subset_means)"
   ]
  },
  {
   "cell_type": "markdown",
   "metadata": {},
   "source": [
    "How to get the diagonal of a dot product? "
   ]
  },
  {
   "cell_type": "code",
   "execution_count": 8,
   "metadata": {},
   "outputs": [
    {
     "name": "stdout",
     "output_type": "stream",
     "text": [
      "[19 50]\n"
     ]
    }
   ],
   "source": [
    "array1 = np.array([[1, 2], [3, 4]])\n",
    "array2 = np.array([[5, 6], [7, 8]])\n",
    "dot_product = np.dot(array1, array2)\n",
    "diagonal = np.diagonal(dot_product)\n",
    "import numpy as np\n",
    "\n",
    "# Create two arrays\n",
    "array1 = np.array([[1, 2], [3, 4]])\n",
    "array2 = np.array([[5, 6], [7, 8]])\n",
    "\n",
    "# Compute the dot product\n",
    "dot_product = np.dot(array1, array2)\n",
    "\n",
    "# Get the diagonal elements\n",
    "diagonal = np.diagonal(dot_product)\n",
    "\n",
    "print(diagonal)\n"
   ]
  },
  {
   "cell_type": "markdown",
   "metadata": {},
   "source": [
    "Consider the vector [1, 2, 3, 4, 5], how to build a new vector with 3 consecutive zeros interleaved between each value"
   ]
  },
  {
   "cell_type": "code",
   "execution_count": 9,
   "metadata": {},
   "outputs": [
    {
     "name": "stdout",
     "output_type": "stream",
     "text": [
      "[1. 0. 0. 0. 2. 0. 0. 0. 3. 0. 0. 0. 4. 0. 0. 0. 5.]\n"
     ]
    }
   ],
   "source": [
    "import numpy as np\n",
    "\n",
    "original_vector = np.array([1, 2, 3, 4, 5])\n",
    "\n",
    "num_zeros = 3\n",
    "\n",
    "new_length = len(original_vector) + (len(original_vector) - 1) * num_zeros\n",
    "\n",
    "new_vector = np.zeros(new_length)\n",
    "\n",
    "new_vector[::num_zeros + 1] = original_vector\n",
    "\n",
    "print(new_vector)\n"
   ]
  },
  {
   "cell_type": "markdown",
   "metadata": {},
   "source": [
    "Compute a matrix rank "
   ]
  },
  {
   "cell_type": "code",
   "execution_count": 10,
   "metadata": {},
   "outputs": [
    {
     "name": "stdout",
     "output_type": "stream",
     "text": [
      "Matrix rank: 2\n"
     ]
    }
   ],
   "source": [
    "import numpy as np\n",
    "\n",
    "matrix = np.array([[1, 2, 3],\n",
    "                   [4, 5, 6],\n",
    "                   [7, 8, 9]])\n",
    "\n",
    "# Compute the rank of the matrix\n",
    "rank = np.linalg.matrix_rank(matrix)\n",
    "\n",
    "print(\"Matrix rank:\", rank)\n"
   ]
  },
  {
   "cell_type": "markdown",
   "metadata": {},
   "source": [
    " How to find the most frequent value in an array"
   ]
  },
  {
   "cell_type": "code",
   "execution_count": 11,
   "metadata": {},
   "outputs": [
    {
     "name": "stdout",
     "output_type": "stream",
     "text": [
      "Most frequent value: 2\n"
     ]
    }
   ],
   "source": [
    "arr = np.array([1, 2, 3, 2, 1, 2, 4, 5, 4, 2, 1])\n",
    "values, counts = np.unique(arr, return_counts=True)\n",
    "max_count_index = np.argmax(counts)\n",
    "most_frequent_value = values[max_count_index]\n",
    "\n",
    "print(\"Most frequent value:\", most_frequent_value)"
   ]
  },
  {
   "cell_type": "markdown",
   "metadata": {},
   "source": [
    "Extract all the contiguous 3x3 blocks from a random 10x10 matrix"
   ]
  },
  {
   "cell_type": "code",
   "execution_count": 12,
   "metadata": {},
   "outputs": [
    {
     "name": "stdout",
     "output_type": "stream",
     "text": [
      "[[[0.50154917 0.92667943 0.69243684]\n",
      "  [0.26221101 0.59322844 0.66476421]\n",
      "  [0.92626957 0.02630059 0.52137596]]\n",
      "\n",
      " [[0.92667943 0.69243684 0.97585348]\n",
      "  [0.59322844 0.66476421 0.14547209]\n",
      "  [0.02630059 0.52137596 0.26316576]]\n",
      "\n",
      " [[0.69243684 0.97585348 0.17451492]\n",
      "  [0.66476421 0.14547209 0.50294922]\n",
      "  [0.52137596 0.26316576 0.74906877]]\n",
      "\n",
      " [[0.97585348 0.17451492 0.29171457]\n",
      "  [0.14547209 0.50294922 0.10270594]\n",
      "  [0.26316576 0.74906877 0.83798629]]\n",
      "\n",
      " [[0.17451492 0.29171457 0.20068858]\n",
      "  [0.50294922 0.10270594 0.61884465]\n",
      "  [0.74906877 0.83798629 0.96636052]]\n",
      "\n",
      " [[0.29171457 0.20068858 0.9827041 ]\n",
      "  [0.10270594 0.61884465 0.00657335]\n",
      "  [0.83798629 0.96636052 0.16095849]]\n",
      "\n",
      " [[0.20068858 0.9827041  0.01968124]\n",
      "  [0.61884465 0.00657335 0.81499612]\n",
      "  [0.96636052 0.16095849 0.81363475]]\n",
      "\n",
      " [[0.9827041  0.01968124 0.38549219]\n",
      "  [0.00657335 0.81499612 0.87474766]\n",
      "  [0.16095849 0.81363475 0.84989634]]]\n",
      "[[[0.26221101 0.59322844 0.66476421]\n",
      "  [0.92626957 0.02630059 0.52137596]\n",
      "  [0.5242096  0.9567614  0.36564713]]\n",
      "\n",
      " [[0.59322844 0.66476421 0.14547209]\n",
      "  [0.02630059 0.52137596 0.26316576]\n",
      "  [0.9567614  0.36564713 0.46640707]]\n",
      "\n",
      " [[0.66476421 0.14547209 0.50294922]\n",
      "  [0.52137596 0.26316576 0.74906877]\n",
      "  [0.36564713 0.46640707 0.96939494]]\n",
      "\n",
      " [[0.14547209 0.50294922 0.10270594]\n",
      "  [0.26316576 0.74906877 0.83798629]\n",
      "  [0.46640707 0.96939494 0.82556932]]\n",
      "\n",
      " [[0.50294922 0.10270594 0.61884465]\n",
      "  [0.74906877 0.83798629 0.96636052]\n",
      "  [0.96939494 0.82556932 0.93942517]]\n",
      "\n",
      " [[0.10270594 0.61884465 0.00657335]\n",
      "  [0.83798629 0.96636052 0.16095849]\n",
      "  [0.82556932 0.93942517 0.67400502]]\n",
      "\n",
      " [[0.61884465 0.00657335 0.81499612]\n",
      "  [0.96636052 0.16095849 0.81363475]\n",
      "  [0.93942517 0.67400502 0.52643246]]\n",
      "\n",
      " [[0.00657335 0.81499612 0.87474766]\n",
      "  [0.16095849 0.81363475 0.84989634]\n",
      "  [0.67400502 0.52643246 0.73571895]]]\n",
      "[[[0.92626957 0.02630059 0.52137596]\n",
      "  [0.5242096  0.9567614  0.36564713]\n",
      "  [0.76551418 0.03908174 0.09592281]]\n",
      "\n",
      " [[0.02630059 0.52137596 0.26316576]\n",
      "  [0.9567614  0.36564713 0.46640707]\n",
      "  [0.03908174 0.09592281 0.21845318]]\n",
      "\n",
      " [[0.52137596 0.26316576 0.74906877]\n",
      "  [0.36564713 0.46640707 0.96939494]\n",
      "  [0.09592281 0.21845318 0.85751707]]\n",
      "\n",
      " [[0.26316576 0.74906877 0.83798629]\n",
      "  [0.46640707 0.96939494 0.82556932]\n",
      "  [0.21845318 0.85751707 0.2134239 ]]\n",
      "\n",
      " [[0.74906877 0.83798629 0.96636052]\n",
      "  [0.96939494 0.82556932 0.93942517]\n",
      "  [0.85751707 0.2134239  0.39192134]]\n",
      "\n",
      " [[0.83798629 0.96636052 0.16095849]\n",
      "  [0.82556932 0.93942517 0.67400502]\n",
      "  [0.2134239  0.39192134 0.85056015]]\n",
      "\n",
      " [[0.96636052 0.16095849 0.81363475]\n",
      "  [0.93942517 0.67400502 0.52643246]\n",
      "  [0.39192134 0.85056015 0.65602294]]\n",
      "\n",
      " [[0.16095849 0.81363475 0.84989634]\n",
      "  [0.67400502 0.52643246 0.73571895]\n",
      "  [0.85056015 0.65602294 0.37499322]]]\n",
      "[[[0.5242096  0.9567614  0.36564713]\n",
      "  [0.76551418 0.03908174 0.09592281]\n",
      "  [0.99145417 0.10678983 0.63112027]]\n",
      "\n",
      " [[0.9567614  0.36564713 0.46640707]\n",
      "  [0.03908174 0.09592281 0.21845318]\n",
      "  [0.10678983 0.63112027 0.35691394]]\n",
      "\n",
      " [[0.36564713 0.46640707 0.96939494]\n",
      "  [0.09592281 0.21845318 0.85751707]\n",
      "  [0.63112027 0.35691394 0.34219366]]\n",
      "\n",
      " [[0.46640707 0.96939494 0.82556932]\n",
      "  [0.21845318 0.85751707 0.2134239 ]\n",
      "  [0.35691394 0.34219366 0.19047042]]\n",
      "\n",
      " [[0.96939494 0.82556932 0.93942517]\n",
      "  [0.85751707 0.2134239  0.39192134]\n",
      "  [0.34219366 0.19047042 0.59996912]]\n",
      "\n",
      " [[0.82556932 0.93942517 0.67400502]\n",
      "  [0.2134239  0.39192134 0.85056015]\n",
      "  [0.19047042 0.59996912 0.23200429]]\n",
      "\n",
      " [[0.93942517 0.67400502 0.52643246]\n",
      "  [0.39192134 0.85056015 0.65602294]\n",
      "  [0.59996912 0.23200429 0.89139054]]\n",
      "\n",
      " [[0.67400502 0.52643246 0.73571895]\n",
      "  [0.85056015 0.65602294 0.37499322]\n",
      "  [0.23200429 0.89139054 0.56617341]]]\n",
      "[[[0.76551418 0.03908174 0.09592281]\n",
      "  [0.99145417 0.10678983 0.63112027]\n",
      "  [0.75399975 0.12420251 0.22068876]]\n",
      "\n",
      " [[0.03908174 0.09592281 0.21845318]\n",
      "  [0.10678983 0.63112027 0.35691394]\n",
      "  [0.12420251 0.22068876 0.33117155]]\n",
      "\n",
      " [[0.09592281 0.21845318 0.85751707]\n",
      "  [0.63112027 0.35691394 0.34219366]\n",
      "  [0.22068876 0.33117155 0.08825757]]\n",
      "\n",
      " [[0.21845318 0.85751707 0.2134239 ]\n",
      "  [0.35691394 0.34219366 0.19047042]\n",
      "  [0.33117155 0.08825757 0.91590833]]\n",
      "\n",
      " [[0.85751707 0.2134239  0.39192134]\n",
      "  [0.34219366 0.19047042 0.59996912]\n",
      "  [0.08825757 0.91590833 0.47403172]]\n",
      "\n",
      " [[0.2134239  0.39192134 0.85056015]\n",
      "  [0.19047042 0.59996912 0.23200429]\n",
      "  [0.91590833 0.47403172 0.85714193]]\n",
      "\n",
      " [[0.39192134 0.85056015 0.65602294]\n",
      "  [0.59996912 0.23200429 0.89139054]\n",
      "  [0.47403172 0.85714193 0.9000608 ]]\n",
      "\n",
      " [[0.85056015 0.65602294 0.37499322]\n",
      "  [0.23200429 0.89139054 0.56617341]\n",
      "  [0.85714193 0.9000608  0.58709409]]]\n",
      "[[[0.99145417 0.10678983 0.63112027]\n",
      "  [0.75399975 0.12420251 0.22068876]\n",
      "  [0.07849579 0.17279203 0.59361924]]\n",
      "\n",
      " [[0.10678983 0.63112027 0.35691394]\n",
      "  [0.12420251 0.22068876 0.33117155]\n",
      "  [0.17279203 0.59361924 0.33030688]]\n",
      "\n",
      " [[0.63112027 0.35691394 0.34219366]\n",
      "  [0.22068876 0.33117155 0.08825757]\n",
      "  [0.59361924 0.33030688 0.81695823]]\n",
      "\n",
      " [[0.35691394 0.34219366 0.19047042]\n",
      "  [0.33117155 0.08825757 0.91590833]\n",
      "  [0.33030688 0.81695823 0.88754191]]\n",
      "\n",
      " [[0.34219366 0.19047042 0.59996912]\n",
      "  [0.08825757 0.91590833 0.47403172]\n",
      "  [0.81695823 0.88754191 0.67867537]]\n",
      "\n",
      " [[0.19047042 0.59996912 0.23200429]\n",
      "  [0.91590833 0.47403172 0.85714193]\n",
      "  [0.88754191 0.67867537 0.24990088]]\n",
      "\n",
      " [[0.59996912 0.23200429 0.89139054]\n",
      "  [0.47403172 0.85714193 0.9000608 ]\n",
      "  [0.67867537 0.24990088 0.56133322]]\n",
      "\n",
      " [[0.23200429 0.89139054 0.56617341]\n",
      "  [0.85714193 0.9000608  0.58709409]\n",
      "  [0.24990088 0.56133322 0.65680727]]]\n",
      "[[[0.75399975 0.12420251 0.22068876]\n",
      "  [0.07849579 0.17279203 0.59361924]\n",
      "  [0.76647736 0.25931283 0.73898696]]\n",
      "\n",
      " [[0.12420251 0.22068876 0.33117155]\n",
      "  [0.17279203 0.59361924 0.33030688]\n",
      "  [0.25931283 0.73898696 0.68134739]]\n",
      "\n",
      " [[0.22068876 0.33117155 0.08825757]\n",
      "  [0.59361924 0.33030688 0.81695823]\n",
      "  [0.73898696 0.68134739 0.94169308]]\n",
      "\n",
      " [[0.33117155 0.08825757 0.91590833]\n",
      "  [0.33030688 0.81695823 0.88754191]\n",
      "  [0.68134739 0.94169308 0.96882241]]\n",
      "\n",
      " [[0.08825757 0.91590833 0.47403172]\n",
      "  [0.81695823 0.88754191 0.67867537]\n",
      "  [0.94169308 0.96882241 0.40889439]]\n",
      "\n",
      " [[0.91590833 0.47403172 0.85714193]\n",
      "  [0.88754191 0.67867537 0.24990088]\n",
      "  [0.96882241 0.40889439 0.57274194]]\n",
      "\n",
      " [[0.47403172 0.85714193 0.9000608 ]\n",
      "  [0.67867537 0.24990088 0.56133322]\n",
      "  [0.40889439 0.57274194 0.16025332]]\n",
      "\n",
      " [[0.85714193 0.9000608  0.58709409]\n",
      "  [0.24990088 0.56133322 0.65680727]\n",
      "  [0.57274194 0.16025332 0.53471337]]]\n",
      "[[[0.07849579 0.17279203 0.59361924]\n",
      "  [0.76647736 0.25931283 0.73898696]\n",
      "  [0.8637445  0.52645383 0.85753361]]\n",
      "\n",
      " [[0.17279203 0.59361924 0.33030688]\n",
      "  [0.25931283 0.73898696 0.68134739]\n",
      "  [0.52645383 0.85753361 0.48980675]]\n",
      "\n",
      " [[0.59361924 0.33030688 0.81695823]\n",
      "  [0.73898696 0.68134739 0.94169308]\n",
      "  [0.85753361 0.48980675 0.85479826]]\n",
      "\n",
      " [[0.33030688 0.81695823 0.88754191]\n",
      "  [0.68134739 0.94169308 0.96882241]\n",
      "  [0.48980675 0.85479826 0.22709054]]\n",
      "\n",
      " [[0.81695823 0.88754191 0.67867537]\n",
      "  [0.94169308 0.96882241 0.40889439]\n",
      "  [0.85479826 0.22709054 0.90280051]]\n",
      "\n",
      " [[0.88754191 0.67867537 0.24990088]\n",
      "  [0.96882241 0.40889439 0.57274194]\n",
      "  [0.22709054 0.90280051 0.87466751]]\n",
      "\n",
      " [[0.67867537 0.24990088 0.56133322]\n",
      "  [0.40889439 0.57274194 0.16025332]\n",
      "  [0.90280051 0.87466751 0.11413977]]\n",
      "\n",
      " [[0.24990088 0.56133322 0.65680727]\n",
      "  [0.57274194 0.16025332 0.53471337]\n",
      "  [0.87466751 0.11413977 0.21907816]]]\n"
     ]
    }
   ],
   "source": [
    "matrix = np.random.rand(10, 10)\n",
    "blocks = np.lib.stride_tricks.sliding_window_view(matrix, (3, 3))\n",
    "for block in blocks:\n",
    "    print(block)"
   ]
  },
  {
   "cell_type": "markdown",
   "metadata": {},
   "source": [
    " Consider a 16x16 array, how to get the block-sum (block size is 4x4)"
   ]
  },
  {
   "cell_type": "code",
   "execution_count": 13,
   "metadata": {},
   "outputs": [
    {
     "name": "stdout",
     "output_type": "stream",
     "text": [
      "[[ 120  376  632  888]\n",
      " [1144 1400 1656 1912]\n",
      " [2168 2424 2680 2936]\n",
      " [3192 3448 3704 3960]]\n"
     ]
    }
   ],
   "source": [
    "import numpy as np\n",
    "\n",
    "arr = np.arange(256).reshape(16, 16)\n",
    "block_shape = (4, 4)\n",
    "block_arr = arr.reshape(arr.shape[0] // block_shape[0], block_shape[0],\n",
    "                        arr.shape[1] // block_shape[1], block_shape[1])\n",
    "\n",
    "block_sum = np.sum(block_arr, axis=(-2, -1))\n",
    "\n",
    "print(block_sum)\n"
   ]
  },
  {
   "cell_type": "markdown",
   "metadata": {},
   "source": [
    "How to get the n largest values of an array"
   ]
  },
  {
   "cell_type": "code",
   "execution_count": 14,
   "metadata": {},
   "outputs": [
    {
     "name": "stdout",
     "output_type": "stream",
     "text": [
      "[9 8 7]\n"
     ]
    }
   ],
   "source": [
    "def get_n_largest(arr, n):\n",
    "    indices = np.argpartition(arr, -n)[-n:]\n",
    "    \n",
    "    sorted_indices = indices[np.argsort(arr[indices])][::-1]\n",
    "    \n",
    "    largest_values = arr[sorted_indices]\n",
    "    \n",
    "    return largest_values\n",
    "\n",
    "arr = np.array([4, 9, 2, 7, 5, 1, 6, 8, 3])\n",
    "n = 3\n",
    "\n",
    "largest_values = get_n_largest(arr, n)\n",
    "print(largest_values)\n"
   ]
  },
  {
   "cell_type": "markdown",
   "metadata": {},
   "source": [
    "How to create a record array from a regular array"
   ]
  },
  {
   "cell_type": "code",
   "execution_count": 15,
   "metadata": {},
   "outputs": [
    {
     "name": "stdout",
     "output_type": "stream",
     "text": [
      "[1 2 3]\n",
      "['John' 'Jane' 'Alice']\n",
      "[25 30 28]\n"
     ]
    }
   ],
   "source": [
    "regular_array = np.array([(1, 'John', 25),\n",
    "                         (2, 'Jane', 30),\n",
    "                         (3, 'Alice', 28)],\n",
    "                        dtype=[('id', int), ('name', 'U10'), ('age', int)])\n",
    "\n",
    "record_array = np.rec.array(regular_array)\n",
    "\n",
    "print(record_array.id)   \n",
    "print(record_array.name) \n",
    "print(record_array.age)  \n"
   ]
  },
  {
   "cell_type": "markdown",
   "metadata": {},
   "source": [
    " Consider a large vector Z, compute Z to the power of 3 using 3 different methods"
   ]
  },
  {
   "cell_type": "code",
   "execution_count": 16,
   "metadata": {},
   "outputs": [
    {
     "name": "stdout",
     "output_type": "stream",
     "text": [
      "[  1   8  27  64 125]\n"
     ]
    }
   ],
   "source": [
    "import numpy as np\n",
    "\n",
    "Z = np.array([1, 2, 3, 4, 5])  \n",
    "\n",
    "Z_cubed = np.power(Z, 3)\n",
    "print(Z_cubed)\n"
   ]
  },
  {
   "cell_type": "code",
   "execution_count": 17,
   "metadata": {},
   "outputs": [
    {
     "name": "stdout",
     "output_type": "stream",
     "text": [
      "[  1   8  27  64 125]\n"
     ]
    }
   ],
   "source": [
    "Z = np.array([1, 2, 3, 4, 5])  \n",
    "\n",
    "Z_cubed = Z ** 3\n",
    "print(Z_cubed)"
   ]
  },
  {
   "cell_type": "code",
   "execution_count": 18,
   "metadata": {},
   "outputs": [
    {
     "name": "stdout",
     "output_type": "stream",
     "text": [
      "[  1   8  27  64 125]\n"
     ]
    }
   ],
   "source": [
    "Z = np.array([1, 2, 3, 4, 5])  \n",
    "\n",
    "Z_cubed = np.multiply(Z, np.multiply(Z, Z))\n",
    "print(Z_cubed)"
   ]
  },
  {
   "cell_type": "markdown",
   "metadata": {},
   "source": [
    "Considering a 10x3 matrix, extract rows with unequal values (e.g. [2,2,3])"
   ]
  },
  {
   "cell_type": "markdown",
   "metadata": {},
   "source": [
    "Given a two dimensional array, how to extract unique rows?"
   ]
  },
  {
   "cell_type": "code",
   "execution_count": 20,
   "metadata": {},
   "outputs": [
    {
     "name": "stdout",
     "output_type": "stream",
     "text": [
      "[[1 2 3]\n",
      " [4 5 6]\n",
      " [7 8 9]]\n"
     ]
    }
   ],
   "source": [
    "arr = np.array([[1, 2, 3],\n",
    "                [4, 5, 6],\n",
    "                [1, 2, 3],\n",
    "                [7, 8, 9],\n",
    "                [4, 5, 6]])\n",
    "\n",
    "unique_rows = np.unique(arr, axis=0)\n",
    "\n",
    "print(unique_rows)"
   ]
  },
  {
   "cell_type": "markdown",
   "metadata": {},
   "source": [
    "Given an integer n and a 2D array X, select from X the rows which can be interpreted as draws from a multinomial distribution with n degrees, i.e., the rows which only contain integers and which sum to n"
   ]
  },
  {
   "cell_type": "code",
   "execution_count": 21,
   "metadata": {},
   "outputs": [
    {
     "name": "stdout",
     "output_type": "stream",
     "text": [
      "[2 4 6]\n"
     ]
    }
   ],
   "source": [
    "import numpy as np\n",
    "\n",
    "def select_multinomial_rows(X, n):\n",
    "    selected_rows = []\n",
    "    for row in X:\n",
    "        if np.all(np.equal(np.mod(row, 1), 0)) and np.sum(row) == n:\n",
    "            selected_rows.append(row)\n",
    "    return selected_rows\n",
    "X = np.array([[1, 2, 3], [4, 5, 6], [7, 8, 9], [2, 4, 6]])\n",
    "n = 12\n",
    "\n",
    "selected_rows = select_multinomial_rows(X, n)\n",
    "for row in selected_rows:\n",
    "    print(row)\n"
   ]
  }
 ],
 "metadata": {
  "kernelspec": {
   "display_name": "Python 3",
   "language": "python",
   "name": "python3"
  },
  "language_info": {
   "codemirror_mode": {
    "name": "ipython",
    "version": 3
   },
   "file_extension": ".py",
   "mimetype": "text/x-python",
   "name": "python",
   "nbconvert_exporter": "python",
   "pygments_lexer": "ipython3",
   "version": "3.11.3"
  },
  "orig_nbformat": 4
 },
 "nbformat": 4,
 "nbformat_minor": 2
}
